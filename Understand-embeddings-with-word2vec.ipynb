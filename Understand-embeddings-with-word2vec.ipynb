{
 "cells": [
  {
   "cell_type": "markdown",
   "metadata": {},
   "source": [
    "# Understand embeddings with Word2Vec"
   ]
  },
  {
   "cell_type": "markdown",
   "metadata": {},
   "source": [
    "### Exercise objectives:\n",
    "- Convert 🔠 words to 🔢 vector representations thanks to embeddings\n",
    "- Discover the powerful Word2Vec algorithm\n",
    "\n",
    "<hr>\n",
    "\n",
    "_Embeddings_ are representations of words using vectors. These embeddings can be learned within a Neural Network. But it can take time to converge. Another option is to learn them as a first step. Then, use them directly to feed the word representations into a Recurrent Neural Network. "
   ]
  },
  {
   "cell_type": "markdown",
   "metadata": {},
   "source": [
    "▶️ Run this cell and make sure the version of 📚 [Gensim - Word2Vec](https://radimrehurek.com/gensim/auto_examples/index.html) you are using is ≥ 4.0!"
   ]
  },
  {
   "cell_type": "code",
   "execution_count": 1,
   "metadata": {},
   "outputs": [
    {
     "name": "stdout",
     "output_type": "stream",
     "text": [
      "gensim==4.2.0\r\n"
     ]
    }
   ],
   "source": [
    "!pip freeze | grep gensim"
   ]
  },
  {
   "cell_type": "code",
   "execution_count": 2,
   "metadata": {},
   "outputs": [
    {
     "name": "stdout",
     "output_type": "stream",
     "text": [
      "tensorflow-datasets==4.6.0\r\n",
      "tensorflow-estimator==2.10.0\r\n",
      "tensorflow-macos==2.10.0\r\n",
      "tensorflow-metadata==1.10.0\r\n"
     ]
    }
   ],
   "source": [
    "!pip freeze | grep tensorflow"
   ]
  },
  {
   "cell_type": "markdown",
   "metadata": {},
   "source": [
    "# The data"
   ]
  },
  {
   "cell_type": "markdown",
   "metadata": {},
   "source": [
    "Keras provides many datasets, among which is the IMDB dataset 🎬:\n",
    "- It is comprised of sentences that are ***movie reviews***. \n",
    "- Each of these reviews is related to a score given by the reviewer.\n",
    "\n",
    "❓ **Question** ❓ First of all, let's load the data. You don't have to understand what is going on in the function, it does not matter here.\n",
    "\n",
    "⚠️ **Warning** ⚠️ The `load_data` function has a `percentage_of_sentences` argument. Depending on your computer, there are chances that too many sentences will make your compute slow down, or even freeze - your RAM can overflow. For that reason, **you should start with 10% of the sentences** and see if your computer can handle it. Otherwise, rerun with a lower number.  \n",
    "\n",
    "⚠️ **DISCLAIMER** ⚠️ **No need to play _who has the biggest_ (RAM) !** The idea is to get to run your models quickly to prototype. Even in real life, it is recommended that you start with a subset of your data to loop and debug quickly. So increase the number only if you are into getting the best accuracy. "
   ]
  },
  {
   "cell_type": "code",
   "execution_count": 3,
   "metadata": {},
   "outputs": [
    {
     "name": "stdout",
     "output_type": "stream",
     "text": [
      "\u001b[1mDownloading and preparing dataset 80.23 MiB (download: 80.23 MiB, generated: Unknown size, total: 80.23 MiB) to ~/tensorflow_datasets/imdb_reviews/plain_text/1.0.0...\u001b[0m\n"
     ]
    },
    {
     "data": {
      "application/vnd.jupyter.widget-view+json": {
       "model_id": "cd2344b4a7304c26b3e2fd30869a0004",
       "version_major": 2,
       "version_minor": 0
      },
      "text/plain": [
       "Dl Completed...: 0 url [00:00, ? url/s]"
      ]
     },
     "metadata": {},
     "output_type": "display_data"
    },
    {
     "data": {
      "application/vnd.jupyter.widget-view+json": {
       "model_id": "bd9e3e5b72e7449782710ccec2bc992e",
       "version_major": 2,
       "version_minor": 0
      },
      "text/plain": [
       "Dl Size...: 0 MiB [00:00, ? MiB/s]"
      ]
     },
     "metadata": {},
     "output_type": "display_data"
    },
    {
     "data": {
      "application/vnd.jupyter.widget-view+json": {
       "model_id": "",
       "version_major": 2,
       "version_minor": 0
      },
      "text/plain": [
       "Generating splits...:   0%|          | 0/3 [00:00<?, ? splits/s]"
      ]
     },
     "metadata": {},
     "output_type": "display_data"
    },
    {
     "data": {
      "application/vnd.jupyter.widget-view+json": {
       "model_id": "",
       "version_major": 2,
       "version_minor": 0
      },
      "text/plain": [
       "Generating train examples...:   0%|          | 0/25000 [00:00<?, ? examples/s]"
      ]
     },
     "metadata": {},
     "output_type": "display_data"
    },
    {
     "data": {
      "application/vnd.jupyter.widget-view+json": {
       "model_id": "",
       "version_major": 2,
       "version_minor": 0
      },
      "text/plain": [
       "Shuffling ~/tensorflow_datasets/imdb_reviews/plain_text/1.0.0.incompleteXWY2IH/imdb_reviews-train.tfrecord*...…"
      ]
     },
     "metadata": {},
     "output_type": "display_data"
    },
    {
     "data": {
      "application/vnd.jupyter.widget-view+json": {
       "model_id": "",
       "version_major": 2,
       "version_minor": 0
      },
      "text/plain": [
       "Generating test examples...:   0%|          | 0/25000 [00:00<?, ? examples/s]"
      ]
     },
     "metadata": {},
     "output_type": "display_data"
    },
    {
     "data": {
      "application/vnd.jupyter.widget-view+json": {
       "model_id": "",
       "version_major": 2,
       "version_minor": 0
      },
      "text/plain": [
       "Shuffling ~/tensorflow_datasets/imdb_reviews/plain_text/1.0.0.incompleteXWY2IH/imdb_reviews-test.tfrecord*...:…"
      ]
     },
     "metadata": {},
     "output_type": "display_data"
    },
    {
     "data": {
      "application/vnd.jupyter.widget-view+json": {
       "model_id": "",
       "version_major": 2,
       "version_minor": 0
      },
      "text/plain": [
       "Generating unsupervised examples...:   0%|          | 0/50000 [00:00<?, ? examples/s]"
      ]
     },
     "metadata": {},
     "output_type": "display_data"
    },
    {
     "data": {
      "application/vnd.jupyter.widget-view+json": {
       "model_id": "",
       "version_major": 2,
       "version_minor": 0
      },
      "text/plain": [
       "Shuffling ~/tensorflow_datasets/imdb_reviews/plain_text/1.0.0.incompleteXWY2IH/imdb_reviews-unsupervised.tfrec…"
      ]
     },
     "metadata": {},
     "output_type": "display_data"
    },
    {
     "name": "stdout",
     "output_type": "stream",
     "text": [
      "\u001b[1mDataset imdb_reviews downloaded and prepared to ~/tensorflow_datasets/imdb_reviews/plain_text/1.0.0. Subsequent calls will reuse this data.\u001b[0m\n"
     ]
    },
    {
     "name": "stderr",
     "output_type": "stream",
     "text": [
      "2023-02-24 14:52:58.854233: W tensorflow/core/platform/profile_utils/cpu_utils.cc:128] Failed to get CPU frequency: 0 Hz\n"
     ]
    }
   ],
   "source": [
    "###########################################\n",
    "### Just run this cell to load the data ###\n",
    "###########################################\n",
    "\n",
    "import tensorflow_datasets as tfds\n",
    "from tensorflow.keras.preprocessing.text import text_to_word_sequence\n",
    "\n",
    "def load_data(percentage_of_sentences=None):\n",
    "    train_data, test_data = tfds.load(name=\"imdb_reviews\", split=[\"train\", \"test\"], batch_size=-1, as_supervised=True)\n",
    "\n",
    "    train_sentences, y_train = tfds.as_numpy(train_data)\n",
    "    test_sentences, y_test = tfds.as_numpy(test_data)\n",
    "    \n",
    "    # Take only a given percentage of the entire data\n",
    "    if percentage_of_sentences is not None:\n",
    "        assert(percentage_of_sentences> 0 and percentage_of_sentences<=100)\n",
    "        \n",
    "        len_train = int(percentage_of_sentences/100*len(train_sentences))\n",
    "        train_sentences, y_train = train_sentences[:len_train], y_train[:len_train]\n",
    "  \n",
    "        len_test = int(percentage_of_sentences/100*len(test_sentences))\n",
    "        test_sentences, y_test = test_sentences[:len_test], y_test[:len_test]\n",
    "    \n",
    "    X_train = [text_to_word_sequence(_.decode(\"utf-8\")) for _ in train_sentences]\n",
    "    X_test = [text_to_word_sequence(_.decode(\"utf-8\")) for _ in test_sentences]\n",
    "    \n",
    "    return X_train, y_train, X_test, y_test\n",
    "\n",
    "X_train, y_train, X_test, y_test = load_data(percentage_of_sentences=10)"
   ]
  },
  {
   "cell_type": "markdown",
   "metadata": {},
   "source": [
    "<b><u>Embeddings in the previous challenge</u></b>:\n",
    "\n",
    "In the previous exercise, we jointly learned a representation for the words, and fed this representation to a RNN, as shown down below 👇: \n",
    "\n",
    "<img src=\"layers_embedding.png\" width=\"400px\" />\n",
    "\n",
    "However, this increases the number of parameters to learn, which slows down and increases the difficulty of convergence!"
   ]
  },
  {
   "cell_type": "markdown",
   "metadata": {},
   "source": [
    "<b><u>Embeddings in the current challenge</u></b>:\n",
    "\n",
    "For this reason, we will separate the steps of learning the word representation and feeding it into a RNN. As shown here: \n",
    "\n",
    "<img src=\"word2vec_representation.png\" width=\"400px\" />\n",
    "\n",
    "We will learn the embedding with Word2Vec.\n",
    "\n",
    "The drawback is indeed that the learned embeddings are not _specifically_ designed for our task. However, learning them independently of the task at hand (sentiment analysis) has some advantages: \n",
    "- it is very fast to do in general (with Word2Vec)\n",
    "- the representation learned by Word2Vec is still meaningful \n",
    "- the convergence of the RNN alone will be easier and faster\n",
    "\n",
    "So let's learn an embedding with Word2Vec and see how meaningful it is!"
   ]
  },
  {
   "cell_type": "markdown",
   "metadata": {},
   "source": [
    "# Embedding with Word2Vec"
   ]
  },
  {
   "cell_type": "markdown",
   "metadata": {},
   "source": [
    "Let's use Word2Vec to embed the words of our sentences. Word2Vec will be able to convert each word to a fixed-size vectorial representation.\n",
    "\n",
    "For instance, we will have:\n",
    "- 🐶 _dog_ $\\rightarrow$ [0.1, -0.3, 0.8]\n",
    "- 🐱 _cat_ $\\rightarrow$ [-1.1, 2.3, 0.7]\n",
    "- 🍏 _apple_ $\\rightarrow$ [3.1, 0.9, -4.7]\n",
    "\n",
    "Here, your embedding space is of size 3.\n",
    "\n",
    "***What is a \"good\" numerical representation of words?***\n",
    "\n",
    "- ***Words with close meanings should be geometrically close in your embedding space!***\n",
    "\n",
    "    - Look at the following example which represents a bi-dimensional embedding space.\n",
    "\n",
    "![Embedding](word_embedding.png)"
   ]
  },
  {
   "cell_type": "markdown",
   "metadata": {},
   "source": [
    "❓ **Question** ❓ Let's run Word2Vec! \n",
    "\n",
    "[📚 **Gensim**](https://radimrehurek.com/gensim/)  is a great Python package that makes the use of the Word2Vec algorithm easy to implement, fast and accurate (which is not an easy task!).\n",
    "\n",
    "1. The following code imports Word2Vec from Gensim. \n",
    "\n",
    "2. The second line learns the embedding representation of the words thanks to the sentences in `X_train`. \n",
    "3. The third line stores the words and their trained embeddings in `wv`."
   ]
  },
  {
   "cell_type": "code",
   "execution_count": 38,
   "metadata": {
    "tags": []
   },
   "outputs": [],
   "source": [
    "from gensim.models import Word2Vec\n",
    "\n",
    "word2vec = Word2Vec(sentences=X_train)\n",
    "wv = word2vec.wv"
   ]
  },
  {
   "cell_type": "code",
   "execution_count": 6,
   "metadata": {
    "tags": []
   },
   "outputs": [
    {
     "data": {
      "text/plain": [
       "array([-1.31179795e-01,  1.29680246e-01, -1.01218492e-01,  2.27671757e-01,\n",
       "       -5.70501834e-02, -3.18735570e-01, -4.04647057e-04,  5.27364075e-01,\n",
       "       -1.48557544e-01, -1.26766711e-01, -2.01488305e-02, -2.69839048e-01,\n",
       "       -3.92134935e-02,  1.16032600e-01, -3.78698967e-02, -2.06698269e-01,\n",
       "        1.62418962e-01, -2.72651941e-01, -5.43630198e-02, -3.70347530e-01,\n",
       "        1.59486964e-01,  1.00631885e-01,  2.49377921e-01, -1.07569791e-01,\n",
       "        3.92711163e-03,  4.49785106e-02, -1.94976047e-01, -1.01393051e-01,\n",
       "       -2.12458923e-01,  2.35036090e-02,  1.63787693e-01,  2.78089084e-02,\n",
       "        1.60475284e-01, -3.73258561e-01, -1.82365865e-01,  2.41694003e-01,\n",
       "        1.07034318e-01, -1.27999663e-01, -2.94709295e-01, -3.26329887e-01,\n",
       "       -1.50400206e-01, -2.42325261e-01, -2.75756836e-01,  2.23004058e-01,\n",
       "        2.66381890e-01, -7.25778416e-02, -9.93703753e-02, -3.07150241e-02,\n",
       "        2.19239220e-01,  1.49099782e-01,  6.66708574e-02, -1.61591947e-01,\n",
       "       -2.48242676e-01, -2.96881218e-02, -1.68084994e-01,  2.05180377e-01,\n",
       "        1.32482439e-01, -2.71225180e-02, -2.04404593e-01,  5.75690977e-02,\n",
       "        1.32165745e-01,  2.27023801e-03,  3.45160030e-02,  8.42947364e-02,\n",
       "       -2.26337612e-01,  3.09890091e-01, -4.91475202e-02,  2.37007394e-01,\n",
       "       -3.55991662e-01,  2.60144264e-01, -2.54801750e-01,  2.66527802e-01,\n",
       "        3.36671442e-01, -2.70219743e-01,  3.90728205e-01,  1.51538417e-01,\n",
       "       -1.10286111e-02,  1.01289831e-01, -1.81846365e-01, -8.73416811e-02,\n",
       "       -2.86253572e-01, -1.76284134e-01, -2.61594951e-01,  2.88314521e-01,\n",
       "       -1.53798714e-01, -2.33629718e-01,  1.22225722e-02,  3.05236727e-01,\n",
       "        3.20685923e-01,  8.58026892e-02,  2.38117978e-01,  3.18531513e-01,\n",
       "        7.07597286e-02,  1.35497838e-01,  5.18178940e-01,  1.59499556e-01,\n",
       "        2.14262068e-01, -8.60480219e-02,  3.61969285e-02, -4.97298464e-02],\n",
       "      dtype=float32)"
      ]
     },
     "execution_count": 6,
     "metadata": {},
     "output_type": "execute_result"
    }
   ],
   "source": [
    "wv['dog']"
   ]
  },
  {
   "cell_type": "markdown",
   "metadata": {},
   "source": [
    "Let's look at the embedded representation of some words.\n",
    "\n",
    "You can use `wv` as a dictionary.\n",
    "For instance, `wv['dog']` will return a representation of `dog` in the embedding space."
   ]
  },
  {
   "cell_type": "markdown",
   "metadata": {},
   "source": [
    "❓ **Question** ❓ Try different words - especially, try non-existing words to see that they don't have any representation (which is perfectly normal as their representation was not learned). "
   ]
  },
  {
   "cell_type": "code",
   "execution_count": 17,
   "metadata": {
    "tags": [
     "challengify"
    ]
   },
   "outputs": [
    {
     "data": {
      "text/plain": [
       "array([-0.08840887,  0.05286748, -0.06087678,  0.11259277,  0.01181867,\n",
       "       -0.146135  ,  0.07997188,  0.27106544, -0.12103471, -0.11774917,\n",
       "       -0.05720159, -0.17411551,  0.01537064,  0.03728839, -0.03027301,\n",
       "       -0.10005415,  0.0999897 , -0.0896476 ,  0.0149204 , -0.19174387,\n",
       "        0.08456607,  0.0416607 ,  0.12676288, -0.09677342, -0.03082684,\n",
       "        0.01121828, -0.13680917, -0.03520885, -0.12012321, -0.01797676,\n",
       "        0.1343972 ,  0.0081268 ,  0.07579023, -0.21419817, -0.17384087,\n",
       "        0.16534624,  0.05926875, -0.10001062, -0.17515208, -0.17214024,\n",
       "       -0.04934389, -0.12110963, -0.12012482,  0.06384189,  0.17171039,\n",
       "       -0.03050609, -0.03326181, -0.07949048,  0.15600973,  0.11245935,\n",
       "        0.0866762 , -0.11370517, -0.10698526,  0.0017948 , -0.10322852,\n",
       "        0.09805708,  0.10919227, -0.0183614 , -0.06905659,  0.00938475,\n",
       "        0.06342769, -0.01460001, -0.01203527,  0.01476273, -0.0524267 ,\n",
       "        0.10239514, -0.03465737,  0.03869641, -0.12496661,  0.09403974,\n",
       "       -0.11927489,  0.0572441 ,  0.14374506, -0.07726504,  0.11604992,\n",
       "        0.03661304,  0.03242316,  0.0662451 , -0.08937471, -0.01613678,\n",
       "       -0.09605887, -0.06715373, -0.12506104,  0.08119076, -0.0791987 ,\n",
       "       -0.1027949 , -0.01183764,  0.11034165,  0.11277068,  0.03456733,\n",
       "        0.08322491,  0.1296148 ,  0.00920429,  0.04406554,  0.24188708,\n",
       "        0.03512159,  0.08562271, -0.01348497,  0.03666959,  0.01613918],\n",
       "      dtype=float32)"
      ]
     },
     "execution_count": 17,
     "metadata": {},
     "output_type": "execute_result"
    }
   ],
   "source": [
    "wv['chair']"
   ]
  },
  {
   "cell_type": "markdown",
   "metadata": {},
   "source": [
    "❓ **Question** ❓ What is the size of each word representation, and therefore, what is the size of the embedding space?"
   ]
  },
  {
   "cell_type": "code",
   "execution_count": 20,
   "metadata": {
    "tags": [
     "challengify"
    ]
   },
   "outputs": [
    {
     "data": {
      "text/plain": [
       "100"
      ]
     },
     "execution_count": 20,
     "metadata": {},
     "output_type": "execute_result"
    }
   ],
   "source": [
    "wv['chair'].size"
   ]
  },
  {
   "cell_type": "code",
   "execution_count": 23,
   "metadata": {
    "tags": [
     "challengify"
    ]
   },
   "outputs": [
    {
     "data": {
      "text/plain": [
       "(100,)"
      ]
     },
     "execution_count": 23,
     "metadata": {},
     "output_type": "execute_result"
    }
   ],
   "source": [
    "wv['dog'].shape"
   ]
  },
  {
   "cell_type": "markdown",
   "metadata": {},
   "source": [
    "🧐 How do we know whether this embedding make any sense or not? \n",
    "\n",
    "💡 To investigate this question, we will check that words with a close meaning have close representations. \n",
    "\n",
    "👉 Let's use the [**`Word2Vec.wv.most_similar`**](https://radimrehurek.com/gensim/models/keyedvectors.html#gensim.models.keyedvectors.KeyedVectors.most_similar) method that, given an input word, displays the \"closest\" words in the embedding space. If the embedding is well done, then words with similar meanings will have similar representation in the embedding space."
   ]
  },
  {
   "cell_type": "code",
   "execution_count": 33,
   "metadata": {},
   "outputs": [
    {
     "data": {
      "text/plain": [
       "[('educated', 0.9814343452453613),\n",
       " ('drinking', 0.9809631705284119),\n",
       " ('gang', 0.9806191325187683),\n",
       " ('princess', 0.9798257946968079),\n",
       " ('angeles', 0.979061484336853),\n",
       " ('enter', 0.9786893129348755),\n",
       " ('field', 0.9786695837974548),\n",
       " ('gold', 0.9782401919364929),\n",
       " ('manager', 0.9776360392570496),\n",
       " ('fu', 0.9769474267959595)]"
      ]
     },
     "execution_count": 33,
     "metadata": {},
     "output_type": "execute_result"
    }
   ],
   "source": [
    "word2vec.wv.most_similar('fishing', topn=10)"
   ]
  },
  {
   "cell_type": "markdown",
   "metadata": {},
   "source": [
    "❓ **Question** ❓ Try out the `most_similar` method on different words. \n",
    "\n",
    "🧑🏿‍🏫 The quality of the closeness will depend on the quality of your embedding, and thus, depend on the number of sentences that you have loaded and from which you create your embedding."
   ]
  },
  {
   "cell_type": "code",
   "execution_count": 35,
   "metadata": {
    "tags": [
     "challengify"
    ]
   },
   "outputs": [
    {
     "data": {
      "text/plain": [
       "[('man', 0.981688916683197),\n",
       " ('woman', 0.9367076754570007),\n",
       " ('girl', 0.9329282641410828),\n",
       " ('boy', 0.8800891041755676),\n",
       " ('guy', 0.8668673634529114),\n",
       " ('child', 0.8077195286750793),\n",
       " ('role', 0.8070240020751953),\n",
       " ('lady', 0.8013709187507629),\n",
       " ('husband', 0.7949036359786987),\n",
       " ('wife', 0.7874804139137268)]"
      ]
     },
     "execution_count": 35,
     "metadata": {},
     "output_type": "execute_result"
    }
   ],
   "source": []
  },
  {
   "cell_type": "markdown",
   "metadata": {},
   "source": [
    "📚 Similarly to `most_similar` used on words directly, we can use [**`similar_by_vector`**](https://radimrehurek.com/gensim/models/keyedvectors.html#gensim.models.keyedvectors.KeyedVectors.similar_by_vector) on vectors to do the same thing:"
   ]
  },
  {
   "cell_type": "code",
   "execution_count": 39,
   "metadata": {
    "tags": [
     "challengify"
    ]
   },
   "outputs": [
    {
     "data": {
      "text/plain": [
       "[('man', 0.9856676459312439),\n",
       " ('woman', 0.9339273571968079),\n",
       " ('girl', 0.9141790866851807),\n",
       " ('wife', 0.886448860168457),\n",
       " ('young', 0.8594347238540649),\n",
       " ('father', 0.8547314405441284),\n",
       " ('role', 0.8541600704193115),\n",
       " ('guy', 0.8531272411346436),\n",
       " ('boy', 0.8449637293815613),\n",
       " ('husband', 0.8405648469924927)]"
      ]
     },
     "execution_count": 39,
     "metadata": {},
     "output_type": "execute_result"
    }
   ],
   "source": [
    "v_queen = word2vec.wv['queen']\n",
    "v_king = word2vec.wv['king']\n",
    "v_man = word2vec.wv['man']\n",
    "\n",
    "v_result = v_queen - v_king + v_man\n",
    "\n",
    "word2vec.wv.similar_by_vector(v_result)\n"
   ]
  },
  {
   "cell_type": "markdown",
   "metadata": {},
   "source": [
    "# Arithmetic on words"
   ]
  },
  {
   "cell_type": "markdown",
   "metadata": {},
   "source": [
    "Now, let's perform some mathematical operations on words, i.e. on their vector representations!\n",
    "\n",
    "As any learned word is represented as a vector, you can do basic arithmetic operations, such as:\n",
    "\n",
    "$$W2V(good) - W2V(bad)$$"
   ]
  },
  {
   "cell_type": "markdown",
   "metadata": {},
   "source": [
    "❓ **Question** ❓ Do this mathematical operation and print the result"
   ]
  },
  {
   "cell_type": "code",
   "execution_count": 43,
   "metadata": {
    "tags": [
     "challengify"
    ]
   },
   "outputs": [
    {
     "data": {
      "text/plain": [
       "[('who', 0.4020281732082367),\n",
       " ('by', 0.3709651529788971),\n",
       " ('young', 0.318206787109375),\n",
       " ('man', 0.26937979459762573),\n",
       " ('played', 0.2559031844139099),\n",
       " ('his', 0.2433338612318039),\n",
       " ('been', 0.23589196801185608),\n",
       " ('a', 0.23189525306224823),\n",
       " ('sibling', 0.23157699406147003),\n",
       " ('woman', 0.22328327596187592)]"
      ]
     },
     "execution_count": 43,
     "metadata": {},
     "output_type": "execute_result"
    }
   ],
   "source": [
    "v_good = word2vec.wv['good']\n",
    "v_bad = word2vec.wv['bad']\n",
    "v_result = v_good - v_bad\n",
    "word2vec.wv.similar_by_vector(v_result)"
   ]
  },
  {
   "cell_type": "markdown",
   "metadata": {},
   "source": [
    "Now, imagine for a second that the following equality holds true:\n",
    "\n",
    "$$W2V(good) - W2V(bad) = W2V(nice) - W2V(stupid)$$\n",
    "\n",
    "which is equivalent to:\n",
    "\n",
    "$$W2V(good) - W2V(bad) + W2V(stupid) = W2V(nice)$$"
   ]
  },
  {
   "cell_type": "markdown",
   "metadata": {},
   "source": [
    "❓ **Question** ❓ Let's, just for fun (as it would be bold of us to think that this equality holds true ...), do the operation $W2V(good) - W2V(bad) + W2V(stupid)$ and store it in a `res` variable (which will be a vector of size 100 that you can print)."
   ]
  },
  {
   "cell_type": "code",
   "execution_count": 45,
   "metadata": {
    "tags": [
     "challengify"
    ]
   },
   "outputs": [
    {
     "data": {
      "text/plain": [
       "[('nice', 0.7630822062492371),\n",
       " ('good', 0.7413495779037476),\n",
       " ('great', 0.7354967594146729),\n",
       " ('also', 0.7187266945838928),\n",
       " ('decent', 0.7119225263595581),\n",
       " ('done', 0.7014288902282715),\n",
       " ('always', 0.6950615644454956),\n",
       " ('baldwin', 0.694158136844635),\n",
       " ('biased', 0.6939597725868225),\n",
       " ('potential', 0.6939337849617004)]"
      ]
     },
     "execution_count": 45,
     "metadata": {},
     "output_type": "execute_result"
    }
   ],
   "source": [
    "v_stupid = word2vec.wv['stupid']\n",
    "res = v_good - v_bad + v_stupid"
   ]
  },
  {
   "cell_type": "markdown",
   "metadata": {},
   "source": [
    "We said earlier, that for any vector it is possible to see the closest vectors in the embedding space."
   ]
  },
  {
   "cell_type": "markdown",
   "metadata": {},
   "source": [
    "❓ **Question** ❓ Look at the closest vectors of `res`\n",
    "\n",
    "💡 _Hint_: `similar_by_vector`"
   ]
  },
  {
   "cell_type": "code",
   "execution_count": 48,
   "metadata": {
    "tags": [
     "challengify"
    ]
   },
   "outputs": [
    {
     "data": {
      "text/plain": [
       "[('nice', 0.7630822062492371),\n",
       " ('good', 0.7413495779037476),\n",
       " ('great', 0.7354967594146729),\n",
       " ('also', 0.7187266945838928),\n",
       " ('decent', 0.7119225263595581),\n",
       " ('done', 0.7014288902282715),\n",
       " ('always', 0.6950615644454956),\n",
       " ('baldwin', 0.694158136844635),\n",
       " ('biased', 0.6939597725868225),\n",
       " ('potential', 0.6939337849617004)]"
      ]
     },
     "execution_count": 48,
     "metadata": {},
     "output_type": "execute_result"
    }
   ],
   "source": [
    "word2vec.wv.similar_by_vector(res)"
   ]
  },
  {
   "cell_type": "markdown",
   "metadata": {},
   "source": [
    "Incredible right! You can do arithmetic operations on words!\n",
    "\n",
    "❓ **Question** ❓ You can try on arithmetic such as \n",
    "\n",
    "$$W2V(Boy) - W2V(Girl) = W2V(Man) - W2V(Woman)$$\n",
    "\n",
    "or \n",
    "\n",
    "$$W2V(Queen) - W2V(King) = W2V(actress) - W2V(actor)$$\n",
    "\n",
    "❗ **Remark** ❗ You will probably see that the results are not perfect. But don't forget that you trained your model on a very small corpus."
   ]
  },
  {
   "cell_type": "code",
   "execution_count": 63,
   "metadata": {
    "tags": [
     "challengify"
    ]
   },
   "outputs": [
    {
     "data": {
      "text/plain": [
       "[('man', 0.9804842472076416),\n",
       " ('girl', 0.9653876423835754),\n",
       " ('woman', 0.9410542249679565),\n",
       " ('young', 0.8867107629776001),\n",
       " ('wife', 0.8832592368125916),\n",
       " ('boy', 0.8730332851409912),\n",
       " ('father', 0.8721991777420044),\n",
       " ('guy', 0.8697517514228821),\n",
       " ('mother', 0.8593718409538269),\n",
       " ('himself', 0.8567374348640442)]"
      ]
     },
     "execution_count": 63,
     "metadata": {},
     "output_type": "execute_result"
    }
   ],
   "source": [
    "v_boy = word2vec.wv['boy']\n",
    "v_girl = word2vec.wv['girl']\n",
    "v_man = word2vec.wv['man']\n",
    "v_woman = word2vec.wv['woman']\n",
    "\n",
    "res1 = v_girl + v_man -v_woman\n",
    "res2 =  v_boy\n",
    "word2vec.wv.similar_by_vector(res1)"
   ]
  },
  {
   "cell_type": "code",
   "execution_count": 64,
   "metadata": {
    "tags": [
     "challengify"
    ]
   },
   "outputs": [
    {
     "data": {
      "text/plain": [
       "[('boy', 1.0000001192092896),\n",
       " ('married', 0.9687053561210632),\n",
       " ('conscience', 0.9608739614486694),\n",
       " ('lady', 0.9604454636573792),\n",
       " ('daughter', 0.9591637253761292),\n",
       " ('son', 0.9590871930122375),\n",
       " ('brother', 0.9575938582420349),\n",
       " ('woman', 0.9572828412055969),\n",
       " ('herself', 0.9551699757575989),\n",
       " ('struggles', 0.9551449418067932)]"
      ]
     },
     "execution_count": 64,
     "metadata": {},
     "output_type": "execute_result"
    }
   ],
   "source": [
    "word2vec.wv.similar_by_vector(res2)"
   ]
  },
  {
   "cell_type": "markdown",
   "metadata": {},
   "source": [
    "<u><i>Some notes about Word2Vec as an internal Neural Network</i></u>:\n",
    "\n",
    "You might wonder where does this magic comes from (at quite a low price, you just ran a line of code on a very small corpus and it was trained within few minutes). The magic comes from the way Word2Vec is trained. The details are quite complex, but you can remember that Word2vec, in `word2vec = Word2Vec(sentences=X_train)`, actually trains a internal neural network (that you don't see).  \n",
    "\n",
    "In a nutshell, this internal neural network predicts a word from the surroundings words in a sentences. Hence, it splits the original sentences, then for each split it chooses some words as inputs $X$ and a word as the output $y$ which it tries to predict, using the embedding space.\n",
    "\n",
    "And as with any neural network, Word2Vec has some hyperparameters. Let's play with some of these. "
   ]
  },
  {
   "cell_type": "markdown",
   "metadata": {},
   "source": [
    "# Word2Vec hyperparameters"
   ]
  },
  {
   "cell_type": "markdown",
   "metadata": {},
   "source": [
    "❓ **Question** ❓ The first important hyperparameter is the `vector_size` argument. It corresponds to the size of the embedding space. Learn a new `word2vec_2` model, still trained on the `X_train`, but with a smaller or higher `vector_size`.\n",
    "\n",
    "Verify on some words that the embedding size is the one you chose."
   ]
  },
  {
   "cell_type": "code",
   "execution_count": 65,
   "metadata": {
    "tags": [
     "challengify"
    ]
   },
   "outputs": [],
   "source": [
    "word2vec2 = Word2Vec(sentences=X_train, vector_size=100)"
   ]
  },
  {
   "cell_type": "markdown",
   "metadata": {},
   "source": [
    "❓ **Question** ❓ Use the **`Word2Vec.wv.key_to_index`** attribute to display the size of the learned vocabulary. Compare it to the number of different words in `X_train`."
   ]
  },
  {
   "cell_type": "code",
   "execution_count": 69,
   "metadata": {
    "tags": [
     "challengify"
    ]
   },
   "outputs": [
    {
     "data": {
      "text/plain": [
       "{'the': 0,\n",
       " 'a': 1,\n",
       " 'and': 2,\n",
       " 'of': 3,\n",
       " 'to': 4,\n",
       " 'is': 5,\n",
       " 'br': 6,\n",
       " 'in': 7,\n",
       " 'i': 8,\n",
       " 'it': 9,\n",
       " 'this': 10,\n",
       " 'that': 11,\n",
       " 'was': 12,\n",
       " 'as': 13,\n",
       " 'for': 14,\n",
       " 'with': 15,\n",
       " 'but': 16,\n",
       " 'movie': 17,\n",
       " 'film': 18,\n",
       " 'on': 19,\n",
       " 'not': 20,\n",
       " 'you': 21,\n",
       " 'his': 22,\n",
       " 'are': 23,\n",
       " 'have': 24,\n",
       " 'one': 25,\n",
       " 'be': 26,\n",
       " 'he': 27,\n",
       " 'all': 28,\n",
       " 'at': 29,\n",
       " 'by': 30,\n",
       " 'they': 31,\n",
       " 'an': 32,\n",
       " 'so': 33,\n",
       " 'like': 34,\n",
       " 'who': 35,\n",
       " 'from': 36,\n",
       " 'her': 37,\n",
       " 'or': 38,\n",
       " 'just': 39,\n",
       " 'if': 40,\n",
       " 'out': 41,\n",
       " 'about': 42,\n",
       " \"it's\": 43,\n",
       " 'has': 44,\n",
       " 'what': 45,\n",
       " 'some': 46,\n",
       " 'there': 47,\n",
       " 'good': 48,\n",
       " 'more': 49,\n",
       " 'when': 50,\n",
       " 'very': 51,\n",
       " 'no': 52,\n",
       " 'up': 53,\n",
       " 'she': 54,\n",
       " 'my': 55,\n",
       " 'time': 56,\n",
       " 'even': 57,\n",
       " 'which': 58,\n",
       " 'would': 59,\n",
       " 'really': 60,\n",
       " 'only': 61,\n",
       " 'had': 62,\n",
       " 'story': 63,\n",
       " 'me': 64,\n",
       " 'see': 65,\n",
       " 'can': 66,\n",
       " 'their': 67,\n",
       " 'were': 68,\n",
       " 'well': 69,\n",
       " 'than': 70,\n",
       " 'much': 71,\n",
       " 'get': 72,\n",
       " 'do': 73,\n",
       " 'great': 74,\n",
       " 'been': 75,\n",
       " 'we': 76,\n",
       " 'first': 77,\n",
       " 'bad': 78,\n",
       " 'because': 79,\n",
       " 'into': 80,\n",
       " 'other': 81,\n",
       " 'will': 82,\n",
       " 'how': 83,\n",
       " 'also': 84,\n",
       " 'most': 85,\n",
       " 'then': 86,\n",
       " 'too': 87,\n",
       " 'him': 88,\n",
       " 'made': 89,\n",
       " \"don't\": 90,\n",
       " 'people': 91,\n",
       " 'way': 92,\n",
       " 'them': 93,\n",
       " 'make': 94,\n",
       " 'its': 95,\n",
       " 'movies': 96,\n",
       " 'could': 97,\n",
       " 'any': 98,\n",
       " 'films': 99,\n",
       " 'think': 100,\n",
       " 'watch': 101,\n",
       " 'plot': 102,\n",
       " 'after': 103,\n",
       " 'two': 104,\n",
       " 'best': 105,\n",
       " 'many': 106,\n",
       " 'acting': 107,\n",
       " 'life': 108,\n",
       " 'character': 109,\n",
       " 'characters': 110,\n",
       " 'never': 111,\n",
       " 'seen': 112,\n",
       " 'where': 113,\n",
       " 'over': 114,\n",
       " 'being': 115,\n",
       " 'did': 116,\n",
       " 'little': 117,\n",
       " 'these': 118,\n",
       " 'love': 119,\n",
       " 'end': 120,\n",
       " 'man': 121,\n",
       " 'show': 122,\n",
       " 'better': 123,\n",
       " 'off': 124,\n",
       " 'ever': 125,\n",
       " 'know': 126,\n",
       " 'still': 127,\n",
       " 'does': 128,\n",
       " 'say': 129,\n",
       " 'while': 130,\n",
       " 'your': 131,\n",
       " 'scene': 132,\n",
       " 'go': 133,\n",
       " 'why': 134,\n",
       " 'should': 135,\n",
       " 'through': 136,\n",
       " 'such': 137,\n",
       " 'here': 138,\n",
       " 'scenes': 139,\n",
       " 'something': 140,\n",
       " 'real': 141,\n",
       " 'back': 142,\n",
       " 'thing': 143,\n",
       " 'now': 144,\n",
       " \"i'm\": 145,\n",
       " \"doesn't\": 146,\n",
       " 'find': 147,\n",
       " 'before': 148,\n",
       " \"didn't\": 149,\n",
       " 'though': 150,\n",
       " 'makes': 151,\n",
       " 'old': 152,\n",
       " 'again': 153,\n",
       " 'watching': 154,\n",
       " 'funny': 155,\n",
       " 'new': 156,\n",
       " 'those': 157,\n",
       " 'every': 158,\n",
       " 'director': 159,\n",
       " 'actors': 160,\n",
       " 'years': 161,\n",
       " 'going': 162,\n",
       " 'nothing': 163,\n",
       " 'actually': 164,\n",
       " 'look': 165,\n",
       " 'another': 166,\n",
       " 'same': 167,\n",
       " 'work': 168,\n",
       " 'part': 169,\n",
       " '10': 170,\n",
       " 'pretty': 171,\n",
       " 'want': 172,\n",
       " 'quite': 173,\n",
       " 'few': 174,\n",
       " 'young': 175,\n",
       " 'thought': 176,\n",
       " 'down': 177,\n",
       " 'horror': 178,\n",
       " 'bit': 179,\n",
       " 'own': 180,\n",
       " 'cast': 181,\n",
       " \"can't\": 182,\n",
       " 'give': 183,\n",
       " 'around': 184,\n",
       " 'fact': 185,\n",
       " 'lot': 186,\n",
       " \"that's\": 187,\n",
       " 'world': 188,\n",
       " 'enough': 189,\n",
       " 'things': 190,\n",
       " 'point': 191,\n",
       " 'series': 192,\n",
       " 'both': 193,\n",
       " 'may': 194,\n",
       " 'done': 195,\n",
       " 'long': 196,\n",
       " 'got': 197,\n",
       " 'seems': 198,\n",
       " 'however': 199,\n",
       " 'gets': 200,\n",
       " 'take': 201,\n",
       " 'always': 202,\n",
       " 'role': 203,\n",
       " 'us': 204,\n",
       " 'original': 205,\n",
       " 'between': 206,\n",
       " 'big': 207,\n",
       " 'right': 208,\n",
       " 'times': 209,\n",
       " 'music': 210,\n",
       " 'saw': 211,\n",
       " 'without': 212,\n",
       " \"i've\": 213,\n",
       " \"isn't\": 214,\n",
       " 'family': 215,\n",
       " 'far': 216,\n",
       " 'whole': 217,\n",
       " 'might': 218,\n",
       " 'minutes': 219,\n",
       " 'am': 220,\n",
       " 'come': 221,\n",
       " 'least': 222,\n",
       " \"there's\": 223,\n",
       " '2': 224,\n",
       " 'action': 225,\n",
       " 'script': 226,\n",
       " 'must': 227,\n",
       " 'tv': 228,\n",
       " 'since': 229,\n",
       " 'kind': 230,\n",
       " 'away': 231,\n",
       " 'interesting': 232,\n",
       " 'almost': 233,\n",
       " 'performance': 234,\n",
       " 'guy': 235,\n",
       " 'fun': 236,\n",
       " 'rather': 237,\n",
       " 'especially': 238,\n",
       " 'hard': 239,\n",
       " 'anything': 240,\n",
       " 'last': 241,\n",
       " 'actor': 242,\n",
       " 'sure': 243,\n",
       " 'believe': 244,\n",
       " 'three': 245,\n",
       " 'comedy': 246,\n",
       " 'girl': 247,\n",
       " \"he's\": 248,\n",
       " 'ending': 249,\n",
       " 'making': 250,\n",
       " 'looking': 251,\n",
       " 'worst': 252,\n",
       " 'anyone': 253,\n",
       " 'woman': 254,\n",
       " 'screen': 255,\n",
       " 'day': 256,\n",
       " 'trying': 257,\n",
       " 'maybe': 258,\n",
       " 'course': 259,\n",
       " 'found': 260,\n",
       " 'each': 261,\n",
       " 'watched': 262,\n",
       " 'having': 263,\n",
       " 'set': 264,\n",
       " 'probably': 265,\n",
       " 'although': 266,\n",
       " 'yet': 267,\n",
       " 'book': 268,\n",
       " 'comes': 269,\n",
       " 'feel': 270,\n",
       " 'money': 271,\n",
       " 'played': 272,\n",
       " 'everything': 273,\n",
       " \"wasn't\": 274,\n",
       " 'night': 275,\n",
       " 'true': 276,\n",
       " 'goes': 277,\n",
       " 'instead': 278,\n",
       " 'put': 279,\n",
       " 'place': 280,\n",
       " 'reason': 281,\n",
       " 'sense': 282,\n",
       " 'dvd': 283,\n",
       " 'high': 284,\n",
       " 'audience': 285,\n",
       " 'main': 286,\n",
       " 'looks': 287,\n",
       " 'later': 288,\n",
       " '1': 289,\n",
       " 'different': 290,\n",
       " 'job': 291,\n",
       " 'second': 292,\n",
       " 'once': 293,\n",
       " 'shows': 294,\n",
       " 'during': 295,\n",
       " 'american': 296,\n",
       " 'else': 297,\n",
       " 'together': 298,\n",
       " 'worth': 299,\n",
       " 'someone': 300,\n",
       " 'takes': 301,\n",
       " 'fan': 302,\n",
       " 'wife': 303,\n",
       " 'plays': 304,\n",
       " 'our': 305,\n",
       " 'said': 306,\n",
       " 'star': 307,\n",
       " 'play': 308,\n",
       " 'read': 309,\n",
       " 'effects': 310,\n",
       " 'year': 311,\n",
       " 'black': 312,\n",
       " 'special': 313,\n",
       " 'version': 314,\n",
       " 'home': 315,\n",
       " 'half': 316,\n",
       " 'idea': 317,\n",
       " 'boring': 318,\n",
       " 'given': 319,\n",
       " 'seeing': 320,\n",
       " 'help': 321,\n",
       " '3': 322,\n",
       " 'less': 323,\n",
       " 'war': 324,\n",
       " 'beautiful': 325,\n",
       " 'house': 326,\n",
       " 'himself': 327,\n",
       " 'seem': 328,\n",
       " 'death': 329,\n",
       " \"you're\": 330,\n",
       " 'production': 331,\n",
       " 'left': 332,\n",
       " 'mind': 333,\n",
       " 'excellent': 334,\n",
       " 'top': 335,\n",
       " 'john': 336,\n",
       " 'simply': 337,\n",
       " 'camera': 338,\n",
       " 'short': 339,\n",
       " 'either': 340,\n",
       " 'poor': 341,\n",
       " 'shot': 342,\n",
       " 'hollywood': 343,\n",
       " 'stupid': 344,\n",
       " 'couple': 345,\n",
       " 'father': 346,\n",
       " 'used': 347,\n",
       " 'line': 348,\n",
       " 'perfect': 349,\n",
       " 'dead': 350,\n",
       " 'until': 351,\n",
       " 'nice': 352,\n",
       " \"couldn't\": 353,\n",
       " 'kids': 354,\n",
       " 'understand': 355,\n",
       " 'try': 356,\n",
       " 'enjoy': 357,\n",
       " 'completely': 358,\n",
       " 'classic': 359,\n",
       " 'mean': 360,\n",
       " 'along': 361,\n",
       " 'awful': 362,\n",
       " 'wrong': 363,\n",
       " 'perhaps': 364,\n",
       " 'start': 365,\n",
       " 'rest': 366,\n",
       " 'need': 367,\n",
       " 'everyone': 368,\n",
       " 'performances': 369,\n",
       " 'truly': 370,\n",
       " 'men': 371,\n",
       " 'boy': 372,\n",
       " \"i'd\": 373,\n",
       " 'gives': 374,\n",
       " 'small': 375,\n",
       " 'liked': 376,\n",
       " 'finally': 377,\n",
       " 'budget': 378,\n",
       " 'keep': 379,\n",
       " 'name': 380,\n",
       " 'head': 381,\n",
       " 'felt': 382,\n",
       " 'style': 383,\n",
       " 'wonderful': 384,\n",
       " 'face': 385,\n",
       " 'full': 386,\n",
       " '\\x96': 387,\n",
       " 'mr': 388,\n",
       " 'stars': 389,\n",
       " 'early': 390,\n",
       " 'let': 391,\n",
       " 'low': 392,\n",
       " 'friends': 393,\n",
       " 'tell': 394,\n",
       " 'drama': 395,\n",
       " 'hope': 396,\n",
       " 'written': 397,\n",
       " 'school': 398,\n",
       " 'dialogue': 399,\n",
       " 'recommend': 400,\n",
       " 'worse': 401,\n",
       " 'case': 402,\n",
       " 'terrible': 403,\n",
       " 'based': 404,\n",
       " 'sort': 405,\n",
       " 'moments': 406,\n",
       " 'run': 407,\n",
       " 'next': 408,\n",
       " 'playing': 409,\n",
       " 'video': 410,\n",
       " 'supposed': 411,\n",
       " 'often': 412,\n",
       " 'mother': 413,\n",
       " 'getting': 414,\n",
       " 'loved': 415,\n",
       " 'use': 416,\n",
       " 'human': 417,\n",
       " 'yes': 418,\n",
       " 'become': 419,\n",
       " 'came': 420,\n",
       " 'others': 421,\n",
       " 'totally': 422,\n",
       " 'absolutely': 423,\n",
       " 'lines': 424,\n",
       " 'certainly': 425,\n",
       " 'fans': 426,\n",
       " 'called': 427,\n",
       " 'side': 428,\n",
       " 'doing': 429,\n",
       " \"they're\": 430,\n",
       " 'days': 431,\n",
       " 'dark': 432,\n",
       " 'overall': 433,\n",
       " 'example': 434,\n",
       " 'entertaining': 435,\n",
       " 'live': 436,\n",
       " 'art': 437,\n",
       " 'killer': 438,\n",
       " 'definitely': 439,\n",
       " 'went': 440,\n",
       " 'lost': 441,\n",
       " 'tries': 442,\n",
       " 'beginning': 443,\n",
       " 'seemed': 444,\n",
       " 'friend': 445,\n",
       " 'city': 446,\n",
       " 'problem': 447,\n",
       " 'god': 448,\n",
       " 'town': 449,\n",
       " 'picture': 450,\n",
       " 'turn': 451,\n",
       " 'against': 452,\n",
       " 'care': 453,\n",
       " 'wanted': 454,\n",
       " 'already': 455,\n",
       " 'evil': 456,\n",
       " 'entire': 457,\n",
       " 'remember': 458,\n",
       " 'actress': 459,\n",
       " 'sex': 460,\n",
       " 'fine': 461,\n",
       " 'close': 462,\n",
       " 'title': 463,\n",
       " 'women': 464,\n",
       " 'particularly': 465,\n",
       " 'itself': 466,\n",
       " 'act': 467,\n",
       " 'throughout': 468,\n",
       " 'episode': 469,\n",
       " 'myself': 470,\n",
       " 'writing': 471,\n",
       " 'history': 472,\n",
       " 'under': 473,\n",
       " \"won't\": 474,\n",
       " 'white': 475,\n",
       " 'etc': 476,\n",
       " 'sound': 477,\n",
       " 'cinema': 478,\n",
       " \"she's\": 479,\n",
       " 'unfortunately': 480,\n",
       " 'anyway': 481,\n",
       " 'oh': 482,\n",
       " 'hand': 483,\n",
       " 'direction': 484,\n",
       " 'wants': 485,\n",
       " 'piece': 486,\n",
       " 'cannot': 487,\n",
       " 'despite': 488,\n",
       " 'stuff': 489,\n",
       " '5': 490,\n",
       " 'behind': 491,\n",
       " 'daughter': 492,\n",
       " 'themselves': 493,\n",
       " 'children': 494,\n",
       " 'lives': 495,\n",
       " 'humor': 496,\n",
       " 'eyes': 497,\n",
       " 'lead': 498,\n",
       " 'highly': 499,\n",
       " 'late': 500,\n",
       " 'moment': 501,\n",
       " 'able': 502,\n",
       " 'hour': 503,\n",
       " 'person': 504,\n",
       " 'child': 505,\n",
       " 'becomes': 506,\n",
       " 'waste': 507,\n",
       " 'kid': 508,\n",
       " 'kill': 509,\n",
       " 'viewer': 510,\n",
       " 'parts': 511,\n",
       " 'favorite': 512,\n",
       " 'leave': 513,\n",
       " 'thinking': 514,\n",
       " 'decent': 515,\n",
       " 'says': 516,\n",
       " 'soon': 517,\n",
       " 'murder': 518,\n",
       " \"you'll\": 519,\n",
       " 'slow': 520,\n",
       " 'guys': 521,\n",
       " 'past': 522,\n",
       " 'age': 523,\n",
       " 'expect': 524,\n",
       " 'girls': 525,\n",
       " 'type': 526,\n",
       " 'guess': 527,\n",
       " 'voice': 528,\n",
       " '4': 529,\n",
       " 'obvious': 530,\n",
       " 'happen': 531,\n",
       " 'b': 532,\n",
       " 'brilliant': 533,\n",
       " 'starts': 534,\n",
       " 'several': 535,\n",
       " 'matter': 536,\n",
       " 'feeling': 537,\n",
       " 'heart': 538,\n",
       " 'genre': 539,\n",
       " 'final': 540,\n",
       " 'michael': 541,\n",
       " 'ok': 542,\n",
       " 'looked': 543,\n",
       " 'flick': 544,\n",
       " 'except': 545,\n",
       " 'directed': 546,\n",
       " 'involved': 547,\n",
       " 'police': 548,\n",
       " 'chance': 549,\n",
       " 'laugh': 550,\n",
       " 'opinion': 551,\n",
       " 'sometimes': 552,\n",
       " 'blood': 553,\n",
       " 'experience': 554,\n",
       " 'strong': 555,\n",
       " 'number': 556,\n",
       " 'alone': 557,\n",
       " 'power': 558,\n",
       " 'including': 559,\n",
       " 'works': 560,\n",
       " 'gave': 561,\n",
       " 'score': 562,\n",
       " 'robert': 563,\n",
       " 'attempt': 564,\n",
       " 'writer': 565,\n",
       " 'possible': 566,\n",
       " 'annoying': 567,\n",
       " 'told': 568,\n",
       " 'david': 569,\n",
       " 'somewhat': 570,\n",
       " \"aren't\": 571,\n",
       " 'known': 572,\n",
       " 'cut': 573,\n",
       " 'wonder': 574,\n",
       " 'stop': 575,\n",
       " 'enjoyed': 576,\n",
       " 'episodes': 577,\n",
       " \"i'll\": 578,\n",
       " \"film's\": 579,\n",
       " 'took': 580,\n",
       " 'english': 581,\n",
       " 'words': 582,\n",
       " 'amazing': 583,\n",
       " 'wish': 584,\n",
       " 'turns': 585,\n",
       " 'turned': 586,\n",
       " 'happens': 587,\n",
       " 'killed': 588,\n",
       " 'sequel': 589,\n",
       " 'hit': 590,\n",
       " 'whose': 591,\n",
       " 'happened': 592,\n",
       " 'today': 593,\n",
       " 'view': 594,\n",
       " 'lady': 595,\n",
       " 'horrible': 596,\n",
       " 'jane': 597,\n",
       " 'ago': 598,\n",
       " 'simple': 599,\n",
       " 'group': 600,\n",
       " 'james': 601,\n",
       " 'please': 602,\n",
       " 'scary': 603,\n",
       " 'female': 604,\n",
       " 'seriously': 605,\n",
       " 'coming': 606,\n",
       " 'mystery': 607,\n",
       " 'quality': 608,\n",
       " 'save': 609,\n",
       " 'relationship': 610,\n",
       " 'single': 611,\n",
       " 'middle': 612,\n",
       " 'novel': 613,\n",
       " 'roles': 614,\n",
       " 's': 615,\n",
       " 'hell': 616,\n",
       " 'musical': 617,\n",
       " 'across': 618,\n",
       " \"wouldn't\": 619,\n",
       " 'word': 620,\n",
       " 'lack': 621,\n",
       " 'level': 622,\n",
       " 'serious': 623,\n",
       " 'red': 624,\n",
       " 'sad': 625,\n",
       " 'shown': 626,\n",
       " 'eye': 627,\n",
       " 'crap': 628,\n",
       " 'bring': 629,\n",
       " 'usually': 630,\n",
       " 'mostly': 631,\n",
       " 'king': 632,\n",
       " 'herself': 633,\n",
       " 'jokes': 634,\n",
       " 'car': 635,\n",
       " 'body': 636,\n",
       " 'running': 637,\n",
       " 'york': 638,\n",
       " '7': 639,\n",
       " 'happy': 640,\n",
       " 'hours': 641,\n",
       " 'light': 642,\n",
       " 'self': 643,\n",
       " 'gore': 644,\n",
       " 'events': 645,\n",
       " 'obviously': 646,\n",
       " 'british': 647,\n",
       " 'basically': 648,\n",
       " 'important': 649,\n",
       " \"'\": 650,\n",
       " 'room': 651,\n",
       " 'fight': 652,\n",
       " 'son': 653,\n",
       " 'comic': 654,\n",
       " 'documentary': 655,\n",
       " 'interest': 656,\n",
       " 'cool': 657,\n",
       " 'extremely': 658,\n",
       " 'miss': 659,\n",
       " 'husband': 660,\n",
       " 'started': 661,\n",
       " 'local': 662,\n",
       " 'none': 663,\n",
       " 'hilarious': 664,\n",
       " 'shots': 665,\n",
       " 'stories': 666,\n",
       " 'huge': 667,\n",
       " 'due': 668,\n",
       " 'thriller': 669,\n",
       " 'predictable': 670,\n",
       " 'brother': 671,\n",
       " 'elements': 672,\n",
       " 'taken': 673,\n",
       " 'straight': 674,\n",
       " 'richard': 675,\n",
       " 'dull': 676,\n",
       " 'add': 677,\n",
       " 'oscar': 678,\n",
       " 'lame': 679,\n",
       " 'yourself': 680,\n",
       " 'call': 681,\n",
       " 'above': 682,\n",
       " 'ten': 683,\n",
       " 'hero': 684,\n",
       " 'surprised': 685,\n",
       " 'game': 686,\n",
       " 'rating': 687,\n",
       " 'released': 688,\n",
       " 'near': 689,\n",
       " 'clearly': 690,\n",
       " 'sets': 691,\n",
       " 'usual': 692,\n",
       " \"let's\": 693,\n",
       " 'talent': 694,\n",
       " 'country': 695,\n",
       " 'television': 696,\n",
       " 'complete': 697,\n",
       " 'storyline': 698,\n",
       " 'lee': 699,\n",
       " 'romantic': 700,\n",
       " 'entertainment': 701,\n",
       " 'disappointed': 702,\n",
       " 'ridiculous': 703,\n",
       " '9': 704,\n",
       " 'apparently': 705,\n",
       " 'dialog': 706,\n",
       " 'fast': 707,\n",
       " 'similar': 708,\n",
       " 'heard': 709,\n",
       " 'supporting': 710,\n",
       " 'violence': 711,\n",
       " 'falls': 712,\n",
       " 'attention': 713,\n",
       " 'nor': 714,\n",
       " 'whether': 715,\n",
       " 'twist': 716,\n",
       " 'finds': 717,\n",
       " 'editing': 718,\n",
       " 'japanese': 719,\n",
       " 'ones': 720,\n",
       " 'beyond': 721,\n",
       " 'giving': 722,\n",
       " 'tale': 723,\n",
       " 'die': 724,\n",
       " 'minute': 725,\n",
       " 'songs': 726,\n",
       " 'song': 727,\n",
       " \"haven't\": 728,\n",
       " 'possibly': 729,\n",
       " 'moving': 730,\n",
       " 'figure': 731,\n",
       " 'fall': 732,\n",
       " 'taking': 733,\n",
       " 'exactly': 734,\n",
       " 'lots': 735,\n",
       " 'saying': 736,\n",
       " 'reality': 737,\n",
       " 'peter': 738,\n",
       " 'screenplay': 739,\n",
       " 'jack': 740,\n",
       " 'non': 741,\n",
       " 'future': 742,\n",
       " 'strange': 743,\n",
       " 'typical': 744,\n",
       " 'mention': 745,\n",
       " 'cinematography': 746,\n",
       " 'means': 747,\n",
       " 'wait': 748,\n",
       " 'stay': 749,\n",
       " 'comments': 750,\n",
       " 'realistic': 751,\n",
       " 'sit': 752,\n",
       " 'somehow': 753,\n",
       " 'talk': 754,\n",
       " 'message': 755,\n",
       " 'indeed': 756,\n",
       " 'sorry': 757,\n",
       " 'animation': 758,\n",
       " 'named': 759,\n",
       " 'class': 760,\n",
       " 'major': 761,\n",
       " 'modern': 762,\n",
       " 'ends': 763,\n",
       " 'rock': 764,\n",
       " 'imagine': 765,\n",
       " 'living': 766,\n",
       " 'street': 767,\n",
       " 'brought': 768,\n",
       " 'earth': 769,\n",
       " \"who's\": 770,\n",
       " 'kept': 771,\n",
       " 'theme': 772,\n",
       " 'atmosphere': 773,\n",
       " 'third': 774,\n",
       " 'bunch': 775,\n",
       " 'sequence': 776,\n",
       " 'nearly': 777,\n",
       " 'reviews': 778,\n",
       " 'check': 779,\n",
       " 'hate': 780,\n",
       " 'fantastic': 781,\n",
       " 'opening': 782,\n",
       " 'easily': 783,\n",
       " 'doubt': 784,\n",
       " 'christmas': 785,\n",
       " 'imdb': 786,\n",
       " 'expected': 787,\n",
       " 'whom': 788,\n",
       " 'enjoyable': 789,\n",
       " 'baby': 790,\n",
       " 'laughs': 791,\n",
       " 'appears': 792,\n",
       " 'career': 793,\n",
       " 'writers': 794,\n",
       " 'sounds': 795,\n",
       " 'tells': 796,\n",
       " 'cheap': 797,\n",
       " 'nature': 798,\n",
       " 'sadly': 799,\n",
       " 'dream': 800,\n",
       " 'air': 801,\n",
       " 'easy': 802,\n",
       " 're': 803,\n",
       " 'effort': 804,\n",
       " 'within': 805,\n",
       " 'begins': 806,\n",
       " 'talking': 807,\n",
       " 't': 808,\n",
       " 'five': 809,\n",
       " 'ways': 810,\n",
       " 'four': 811,\n",
       " 'emotional': 812,\n",
       " 'knew': 813,\n",
       " 'silly': 814,\n",
       " 'material': 815,\n",
       " 'viewers': 816,\n",
       " 'stand': 817,\n",
       " 'meet': 818,\n",
       " 'comment': 819,\n",
       " 'knows': 820,\n",
       " 'hot': 821,\n",
       " 'suspense': 822,\n",
       " 'points': 823,\n",
       " 'parents': 824,\n",
       " 'upon': 825,\n",
       " 'leads': 826,\n",
       " 'avoid': 827,\n",
       " 'difficult': 828,\n",
       " 'french': 829,\n",
       " 'wasted': 830,\n",
       " 'believable': 831,\n",
       " 'review': 832,\n",
       " 'season': 833,\n",
       " 'period': 834,\n",
       " 'dramatic': 835,\n",
       " 'weird': 836,\n",
       " 'gone': 837,\n",
       " 'wrote': 838,\n",
       " \"what's\": 839,\n",
       " 'leading': 840,\n",
       " 'order': 841,\n",
       " 'release': 842,\n",
       " 'using': 843,\n",
       " 'directing': 844,\n",
       " 'casting': 845,\n",
       " 'portrayed': 846,\n",
       " 'george': 847,\n",
       " 'books': 848,\n",
       " '8': 849,\n",
       " 'hear': 850,\n",
       " 'famous': 851,\n",
       " 'directors': 852,\n",
       " 'problems': 853,\n",
       " 'working': 854,\n",
       " 'feels': 855,\n",
       " 'tried': 856,\n",
       " 'change': 857,\n",
       " 'theater': 858,\n",
       " 'among': 859,\n",
       " 'perfectly': 860,\n",
       " 'needs': 861,\n",
       " 'appear': 862,\n",
       " 'begin': 863,\n",
       " 'married': 864,\n",
       " 'setting': 865,\n",
       " 'hair': 866,\n",
       " 'decided': 867,\n",
       " 'clear': 868,\n",
       " 'sequences': 869,\n",
       " 'deal': 870,\n",
       " 'follow': 871,\n",
       " 'space': 872,\n",
       " 'western': 873,\n",
       " 'interested': 874,\n",
       " 'social': 875,\n",
       " 'odd': 876,\n",
       " 'girlfriend': 877,\n",
       " 'box': 878,\n",
       " 'depth': 879,\n",
       " 'poorly': 880,\n",
       " \"you've\": 881,\n",
       " 'return': 882,\n",
       " 'particular': 883,\n",
       " 'forced': 884,\n",
       " 'premise': 885,\n",
       " 'meant': 886,\n",
       " 'worked': 887,\n",
       " 'de': 888,\n",
       " 'eventually': 889,\n",
       " 'shame': 890,\n",
       " 'otherwise': 891,\n",
       " 'potential': 892,\n",
       " 'meets': 893,\n",
       " 'earlier': 894,\n",
       " 'became': 895,\n",
       " 'previous': 896,\n",
       " 'needed': 897,\n",
       " 'whatever': 898,\n",
       " 'animals': 899,\n",
       " 'stage': 900,\n",
       " 'fantasy': 901,\n",
       " 'sister': 902,\n",
       " 'brings': 903,\n",
       " 'result': 904,\n",
       " 'cute': 905,\n",
       " 'effect': 906,\n",
       " 'bought': 907,\n",
       " 'failed': 908,\n",
       " 'waiting': 909,\n",
       " 'showing': 910,\n",
       " 'gay': 911,\n",
       " 'agree': 912,\n",
       " 'stewart': 913,\n",
       " 'apart': 914,\n",
       " 'creepy': 915,\n",
       " 'mary': 916,\n",
       " 'note': 917,\n",
       " 'move': 918,\n",
       " 'paul': 919,\n",
       " 'general': 920,\n",
       " 'badly': 921,\n",
       " 'average': 922,\n",
       " 'doctor': 923,\n",
       " 'form': 924,\n",
       " 'co': 925,\n",
       " 'fire': 926,\n",
       " 'pathetic': 927,\n",
       " 'ask': 928,\n",
       " \"we're\": 929,\n",
       " 'beauty': 930,\n",
       " 'honestly': 931,\n",
       " 'hands': 932,\n",
       " 'rent': 933,\n",
       " 'dance': 934,\n",
       " 'basic': 935,\n",
       " 'filmed': 936,\n",
       " 'band': 937,\n",
       " 'society': 938,\n",
       " 'hardly': 939,\n",
       " 'frank': 940,\n",
       " 'crime': 941,\n",
       " 'kelly': 942,\n",
       " 'feature': 943,\n",
       " 'features': 944,\n",
       " 'fighting': 945,\n",
       " 'unless': 946,\n",
       " 'fi': 947,\n",
       " 'admit': 948,\n",
       " 'greatest': 949,\n",
       " 'sci': 950,\n",
       " 'bored': 951,\n",
       " 'cop': 952,\n",
       " 'male': 953,\n",
       " 'ben': 954,\n",
       " 'cartoon': 955,\n",
       " 'members': 956,\n",
       " 'science': 957,\n",
       " 'certain': 958,\n",
       " 'romance': 959,\n",
       " 'monster': 960,\n",
       " 'weak': 961,\n",
       " 'free': 962,\n",
       " '20': 963,\n",
       " 'older': 964,\n",
       " 'copy': 965,\n",
       " 'buy': 966,\n",
       " 'expecting': 967,\n",
       " 'situation': 968,\n",
       " 'write': 969,\n",
       " 'surprise': 970,\n",
       " 'cat': 971,\n",
       " 'tom': 972,\n",
       " 'credits': 973,\n",
       " 'joe': 974,\n",
       " 'state': 975,\n",
       " 'footage': 976,\n",
       " 'team': 977,\n",
       " 'trash': 978,\n",
       " 'crazy': 979,\n",
       " 'front': 980,\n",
       " 'soundtrack': 981,\n",
       " 'break': 982,\n",
       " 'cheesy': 983,\n",
       " 'consider': 984,\n",
       " 'actual': 985,\n",
       " 'dumb': 986,\n",
       " 'sexual': 987,\n",
       " '15': 988,\n",
       " 'business': 989,\n",
       " 'forward': 990,\n",
       " 'attempts': 991,\n",
       " 'deserves': 992,\n",
       " 'spoilers': 993,\n",
       " 'decide': 994,\n",
       " 'adaptation': 995,\n",
       " 'recently': 996,\n",
       " 'batman': 997,\n",
       " 'control': 998,\n",
       " 'joke': 999,\n",
       " ...}"
      ]
     },
     "execution_count": 69,
     "metadata": {},
     "output_type": "execute_result"
    }
   ],
   "source": [
    "word2vec2.wv.key_to_index"
   ]
  },
  {
   "cell_type": "markdown",
   "metadata": {},
   "source": [
    "There is an important difference between the number of words in the train sentences and in the Word2Vec vocabulary, even though it has been trained on the train sentence set. The reasons comes from the second important hyperparameter of Word2Vec:  `min_count`. \n",
    "\n",
    "`min_count` is a integer that tells you how many occurrences a given word should have to be learned in the embedding space. For instance, let's say that the word \"movie\" appears 1000 times in the corpus and \"simba\" only 2 times. If `min_count=3`, the word \"simba\" will be skipped during the training.\n",
    "\n",
    "The intention is to learn a representation of words that are sufficiently present in the corpus to have a robust embedded representation."
   ]
  },
  {
   "cell_type": "markdown",
   "metadata": {},
   "source": [
    "❓ **Question** ❓ Learn a new `word2vec_3` model with a `min_count` higher than 5 (which is the default value) and a `word2vec_4` with a `min_count` smaller than 5, and then, compare the size of the vocabulary for all the different word2vecs that you have trained (you can choose any `vector_size` you want)."
   ]
  },
  {
   "cell_type": "code",
   "execution_count": 67,
   "metadata": {
    "tags": [
     "challengify"
    ]
   },
   "outputs": [],
   "source": [
    "word2vec3 = Word2Vec(sentences=X_train, vector_size=100, min_count=10)\n",
    "word2vec4 = Word2Vec(sentences=X_train, vector_size=100, min_count=3)"
   ]
  },
  {
   "cell_type": "markdown",
   "metadata": {},
   "source": [
    "Remember that Word2Vec has an internal neural network that is optimized based on some predictions. These predictions actually correspond to predicting a word based on surrounding words. The surroundings words are in a `window` which corresponds to the number of words taken into account. And you can train the Word2Vec with different `window` sizes."
   ]
  },
  {
   "cell_type": "markdown",
   "metadata": {},
   "source": [
    "❓ **Question** ❓ Train a new `word2vec_5` model with a `window` different than previously (default is 5)."
   ]
  },
  {
   "cell_type": "code",
   "execution_count": 70,
   "metadata": {
    "tags": [
     "challengify"
    ]
   },
   "outputs": [],
   "source": [
    "word2vec3 = Word2Vec(sentences=X_train, vector_size=100, min_count=10, window=10)"
   ]
  },
  {
   "cell_type": "markdown",
   "metadata": {},
   "source": [
    "The arguments you have seen (`vector_size`, `min_count` and `window`) are usually the ones that you should start playing with to get a better performance for your model.\n",
    "\n",
    "But you can also look at other arguments in the [**📚 Documentation - gensim.models.word2vec.Text8Corpus**](https://radimrehurek.com/gensim/models/word2vec.html#gensim.models.word2vec.Text8Corpus)"
   ]
  },
  {
   "cell_type": "markdown",
   "metadata": {},
   "source": [
    "# Convert our train and test set to RNN-ready datasets"
   ]
  },
  {
   "cell_type": "markdown",
   "metadata": {},
   "source": [
    "Remember that `Word2Vec` is the first step to the overall process of feeding such a representation into a RNN, as shown here:\n",
    "\n",
    "<img src=\"word2vec_representation.png\" width=\"400px\" />\n",
    "\n",
    "\n",
    "\n",
    "Now, let's work on Step 2 by converting the training and test data into their vector representation to be ready to be fed in RNNs.\n",
    "\n",
    "❓ **Question** ❓ Now, write a function that, given a sentence, returns a matrix that corresponds to the embedding of the full sentence, which means that you have to embed each word one after the other and concatenate the result to output a 2D matrix (make sure that your output is a NumPy array)\n",
    "\n",
    "❗ **Remark** ❗ You will probably notice that some words you are trying to convert throw errors as they are said not to belong to the dictionary:\n",
    "\n",
    "- For the <font color=orange>test</font> set, this is understandable: <font color=orange>some words were not</font> in the <font color=blue>train</font> set and thus, their <font color=orange>embedded representation is unknown</font>\n",
    "- for the <font color=blue>train set</font>, due to `min_count` hyperparameter, not all the words have a vector representation.\n",
    "\n",
    "In any case, just skip the missing words here."
   ]
  },
  {
   "cell_type": "code",
   "execution_count": 74,
   "metadata": {},
   "outputs": [
    {
     "ename": "TypeError",
     "evalue": "array() missing required argument 'object' (pos 0)",
     "output_type": "error",
     "traceback": [
      "\u001b[0;31m---------------------------------------------------------------------------\u001b[0m",
      "\u001b[0;31mTypeError\u001b[0m                                 Traceback (most recent call last)",
      "Cell \u001b[0;32mIn [74], line 1\u001b[0m\n\u001b[0;32m----> 1\u001b[0m emedding \u001b[38;5;241m=\u001b[39m \u001b[43mnp\u001b[49m\u001b[38;5;241;43m.\u001b[39;49m\u001b[43marray\u001b[49m\u001b[43m(\u001b[49m\u001b[43m)\u001b[49m\n",
      "\u001b[0;31mTypeError\u001b[0m: array() missing required argument 'object' (pos 0)"
     ]
    }
   ],
   "source": [
    "emedding = np.array()"
   ]
  },
  {
   "cell_type": "code",
   "execution_count": null,
   "metadata": {},
   "outputs": [],
   "source": [
    "import numpy as np\n",
    "\n",
    "example = ['this', 'movie', 'is', 'the', 'worst', 'action', 'movie', 'ever']\n",
    "example_missing_words = ['this', 'movie', 'is', 'laaaaaaaaaame']\n",
    "\n",
    "def embed_sentence(word2vec, sentence):\n",
    "    embedding = []\n",
    "    for word in sentence:\n",
    "        if word in word2vec.wv:\n",
    "            embedding.append(word2vec.wv[word])\n",
    "    return np.array(embedding)\n",
    "    \n",
    "### Checks\n",
    "embedded_sentence = embed_sentence(word2vec, example)\n",
    "assert(type(embedded_sentence) == np.ndarray)\n",
    "assert(embedded_sentence.shape == (8, 100))\n",
    "\n",
    "embedded_sentence_missing_words = embed_sentence(word2vec, example_missing_words)  \n",
    "assert(type(embedded_sentence_missing_words) == np.ndarray)\n",
    "assert(embedded_sentence_missing_words.shape == (3, 100))"
   ]
  },
  {
   "cell_type": "code",
   "execution_count": 76,
   "metadata": {},
   "outputs": [
    {
     "data": {
      "text/plain": [
       "array([[ 6.00567460e-01, -9.77364421e-01,  1.22312117e+00,\n",
       "        -2.89608300e-01, -2.83019513e-01, -6.44604564e-01,\n",
       "        -5.58074951e-01, -4.98849779e-01, -7.10611284e-01,\n",
       "        -6.44478261e-01,  8.70161235e-01,  2.68628955e-01,\n",
       "         2.64924429e-02, -1.27949566e-01, -4.98828828e-01,\n",
       "         3.37203383e-01,  8.66689980e-01, -1.42999291e+00,\n",
       "        -4.45500016e-01, -2.03647804e+00, -4.52093780e-01,\n",
       "        -7.37015903e-02,  1.12146533e+00,  5.24856150e-01,\n",
       "        -1.69498295e-01, -1.03027068e-01, -1.02931607e+00,\n",
       "        -1.66133240e-01,  1.37516245e-01, -6.59305751e-01,\n",
       "         1.19658418e-01,  1.58884346e-01,  1.78241932e+00,\n",
       "         1.46520317e+00,  2.08722845e-01,  1.76379848e+00,\n",
       "         7.47298002e-02,  2.02249080e-01, -7.75541782e-01,\n",
       "        -5.25325909e-02, -1.99741378e-01,  2.88333863e-01,\n",
       "        -7.37056673e-01,  9.73172188e-02, -6.17136478e-01,\n",
       "         2.42210433e-01, -1.79511264e-01, -3.40417981e-01,\n",
       "        -2.41466999e-01,  3.73243421e-01, -1.29998159e+00,\n",
       "        -1.83727235e-01, -1.17628288e+00,  2.82409370e-01,\n",
       "         4.86550599e-01,  1.65230885e-01,  2.47415349e-01,\n",
       "        -1.00177789e+00, -1.13415825e+00, -1.84276804e-01,\n",
       "        -6.44156277e-01, -9.72496986e-01,  1.33854997e+00,\n",
       "         1.93902031e-01, -2.42814755e+00,  5.36772966e-01,\n",
       "        -5.03673613e-01, -3.24023336e-01, -1.09507298e+00,\n",
       "         1.14082158e+00,  2.17058912e-01,  1.43909800e+00,\n",
       "         8.87129009e-01,  4.12500232e-01,  1.94646132e+00,\n",
       "         2.11866900e-01, -4.07627821e-02, -1.02250612e+00,\n",
       "        -9.33514655e-01,  4.84093636e-01,  6.37849867e-01,\n",
       "         7.04548001e-01, -4.46498066e-01,  1.69365239e+00,\n",
       "        -9.77262080e-01, -9.00920480e-02,  8.77513051e-01,\n",
       "         1.39786348e-01,  4.08993751e-01,  4.20368493e-01,\n",
       "         1.56141436e+00, -6.86345398e-01,  2.61538118e-01,\n",
       "         3.69806528e-01,  1.50065497e-01,  1.92279845e-01,\n",
       "        -1.33022115e-01, -6.28091097e-01, -3.41364115e-01,\n",
       "        -1.01598608e+00],\n",
       "       [ 7.41843104e-01,  4.29751575e-02,  6.01715505e-01,\n",
       "        -5.80869496e-01,  1.26034236e+00, -3.95647347e-01,\n",
       "         1.33480525e+00, -6.00896001e-01, -7.54274070e-01,\n",
       "        -9.62522089e-01, -1.87542737e-01,  1.06248729e-01,\n",
       "         1.60181165e+00,  7.18709528e-01,  1.18183064e+00,\n",
       "        -9.03383076e-01,  1.57621467e+00, -5.95828295e-02,\n",
       "        -5.33478498e-01, -2.79952765e+00,  1.09329534e+00,\n",
       "        -8.20082545e-01,  6.36145115e-01, -8.24953139e-01,\n",
       "         1.11237809e-01, -2.58996546e-01, -1.70161998e+00,\n",
       "        -4.42879140e-01, -9.92680266e-02,  1.96148664e-01,\n",
       "         9.54158902e-01,  9.91463363e-02, -7.65589595e-01,\n",
       "        -1.68507099e-01, -1.43371612e-01,  1.50334764e+00,\n",
       "        -1.31089890e+00,  1.57643151e+00,  2.30278626e-01,\n",
       "        -8.46185744e-01,  1.34618863e-01, -1.31308329e+00,\n",
       "         1.64910674e+00,  5.71022987e-01, -4.65827674e-01,\n",
       "        -1.59377471e-01, -5.48232436e-01, -8.08733642e-01,\n",
       "         9.50430036e-01,  3.24269354e-01,  2.43651748e-01,\n",
       "        -2.27221817e-01,  1.51164412e-01, -3.26518208e-01,\n",
       "         8.54396224e-01,  3.03861916e-01,  3.85831535e-01,\n",
       "         4.82161999e-01, -7.43101358e-01, -4.53774244e-01,\n",
       "        -2.54728854e-01, -5.70616305e-01,  9.25054789e-01,\n",
       "         1.47626936e+00, -8.31058264e-01,  1.93512988e+00,\n",
       "         1.15841472e+00,  7.18678951e-01, -7.33661652e-01,\n",
       "        -1.23601861e-01,  8.13453317e-01, -8.32626879e-01,\n",
       "         8.14202726e-01, -1.51295317e-02,  2.00542259e+00,\n",
       "        -1.56421959e-01,  2.34531373e-01,  1.44971192e+00,\n",
       "        -5.05518615e-01,  1.47215486e+00, -1.03515458e+00,\n",
       "         7.61284649e-01, -6.30025923e-01,  6.56716466e-01,\n",
       "         8.84793282e-01, -1.09340236e-01,  1.51385617e+00,\n",
       "        -4.55864280e-01,  8.48735929e-01, -1.79882541e-01,\n",
       "         1.12340152e+00, -9.36578691e-01,  1.53984892e+00,\n",
       "        -5.86870432e-01,  5.03272355e-01,  6.25439346e-01,\n",
       "        -5.24618208e-01, -4.13665503e-01,  1.79086640e-01,\n",
       "        -2.61483222e-01],\n",
       "       [-1.62619039e-01, -6.08442025e-03,  3.70438397e-01,\n",
       "        -5.91093242e-01, -6.48589194e-01, -1.21599443e-01,\n",
       "         8.94638062e-01,  1.32006609e+00, -8.72984648e-01,\n",
       "        -1.07148683e+00, -3.55073333e-01, -1.21774025e-01,\n",
       "        -6.48932159e-01, -9.42896426e-01, -4.06499356e-01,\n",
       "        -3.67989331e-01,  2.57086277e-01,  9.01311874e-01,\n",
       "        -4.86728884e-02, -1.25690758e+00, -1.03319025e+00,\n",
       "        -2.18837440e-01,  1.08565032e+00, -2.83806380e-02,\n",
       "        -8.45270872e-01,  4.12713081e-01, -6.01428688e-01,\n",
       "        -3.62430274e-01,  5.59061728e-02,  8.03654909e-01,\n",
       "         7.02652156e-01, -3.64993632e-01, -8.15095007e-01,\n",
       "        -1.71978641e+00, -3.97896498e-01,  7.13386953e-01,\n",
       "         1.16168231e-01, -4.64433521e-01, -4.75119978e-01,\n",
       "        -1.16488492e+00,  9.19038951e-01, -1.46081066e+00,\n",
       "        -1.15825319e+00,  6.80675209e-01,  8.36932898e-01,\n",
       "        -6.49729788e-01, -7.88600445e-01, -1.01335835e+00,\n",
       "        -3.81765455e-01,  9.44730520e-01, -7.15609863e-02,\n",
       "        -1.87099171e+00,  4.91896570e-01,  5.30609310e-01,\n",
       "        -8.31043422e-01,  1.34711832e-01, -1.95277095e-01,\n",
       "        -1.32668424e+00, -2.86501646e-02,  1.84261382e-01,\n",
       "         2.34475755e-03, -8.20762038e-01,  1.52364755e+00,\n",
       "        -1.42113090e-01,  2.63297617e-01,  7.30137706e-01,\n",
       "         8.49925697e-01,  1.11124241e+00, -7.74319589e-01,\n",
       "        -9.17080343e-01,  1.36926687e+00,  7.37671852e-01,\n",
       "         3.13388288e-01,  9.74168420e-01, -1.91883251e-01,\n",
       "         6.14263058e-01, -6.42854452e-01,  4.36925977e-01,\n",
       "        -2.51238376e-01,  3.64163309e-01, -6.20752499e-02,\n",
       "        -1.67967185e-01,  2.18248621e-01, -1.80845842e-01,\n",
       "        -4.41166341e-01, -8.44768643e-01,  4.66514289e-01,\n",
       "        -8.80722925e-02, -1.62695110e+00, -6.86919808e-01,\n",
       "         8.99603009e-01, -4.55430627e-01, -1.78312972e-01,\n",
       "        -5.41155636e-01,  1.40429020e-01,  4.69652593e-01,\n",
       "         9.33552444e-01, -1.35835779e+00,  4.13082629e-01,\n",
       "         2.13249728e-01],\n",
       "       [ 6.12072051e-01,  3.27790827e-02,  2.09693506e-01,\n",
       "         3.00608367e-01, -5.01522303e-01,  1.58404067e-01,\n",
       "        -3.89149845e-01,  1.54482229e-02, -4.79852468e-01,\n",
       "        -4.66348566e-02,  6.50856435e-01, -4.84335497e-02,\n",
       "        -1.36257827e-01,  5.30862153e-01, -2.07117543e-01,\n",
       "         1.50132045e-01,  7.07702160e-01,  4.31530118e-01,\n",
       "        -9.43102181e-01, -1.06528831e+00, -4.68289644e-01,\n",
       "         2.23286599e-01, -1.64090112e-01,  2.67555922e-01,\n",
       "         2.88900375e-01, -3.57829541e-01,  4.43834513e-01,\n",
       "         7.48051584e-01, -1.10989761e+00, -3.12250048e-01,\n",
       "         2.15452522e-01,  3.09801906e-01,  4.81431261e-02,\n",
       "         1.70778707e-01, -4.98105913e-01, -4.50547665e-01,\n",
       "         7.33813286e-01, -6.56436980e-01, -5.93199313e-01,\n",
       "        -4.97673333e-01, -3.64097178e-01, -5.80049515e-01,\n",
       "        -1.13022721e+00,  4.42156553e-01, -1.26017824e-01,\n",
       "        -1.29417837e-01, -9.62979674e-01,  1.84176758e-01,\n",
       "        -4.64044027e-02,  7.78344631e-01, -1.32441723e+00,\n",
       "        -7.24175930e-01, -9.40481663e-01,  5.13671897e-02,\n",
       "         8.19001615e-01, -7.94425309e-02, -6.14073426e-02,\n",
       "         4.47025569e-03,  1.62466154e-01,  7.59293735e-01,\n",
       "        -6.29157946e-02, -3.50457579e-01,  2.58464426e-01,\n",
       "         3.04116234e-02, -1.20852605e-01, -7.98628926e-02,\n",
       "        -1.18183538e-01, -1.64242059e-01, -9.73534465e-01,\n",
       "         1.84583843e-01,  1.86149836e-01,  1.80679929e+00,\n",
       "        -5.36544025e-01, -8.00759435e-01,  1.06319618e+00,\n",
       "         2.62886971e-01,  3.46586525e-01, -2.09953591e-01,\n",
       "        -3.11848909e-01, -9.31336343e-01, -4.13577348e-01,\n",
       "        -1.30037159e-01, -6.31056666e-01,  9.32392836e-01,\n",
       "        -1.14466584e+00, -4.09246594e-01,  2.50666499e-01,\n",
       "        -4.80110347e-02,  4.82363194e-01,  2.76009947e-01,\n",
       "         1.90456152e-01,  1.27014661e+00, -2.22258404e-01,\n",
       "         6.89833045e-01,  8.82154047e-01, -6.48634508e-02,\n",
       "         7.02746928e-01, -1.43754518e+00,  5.79675853e-01,\n",
       "         3.37252170e-01],\n",
       "       [ 9.40409184e-01,  4.39251304e-01,  7.07453370e-01,\n",
       "        -2.89177090e-01,  7.38796592e-02, -8.26447248e-01,\n",
       "         5.43922305e-01,  7.68138170e-01, -3.54756802e-01,\n",
       "        -4.37587559e-01,  2.11516529e-01,  1.22005850e-01,\n",
       "         6.98330760e-01, -1.94511473e-01,  6.14688158e-01,\n",
       "         6.24603517e-02,  3.03663641e-01,  2.30012164e-02,\n",
       "        -7.45395064e-01, -1.82184839e+00, -2.74759054e-01,\n",
       "        -2.81546917e-02,  6.26004875e-01, -5.30927658e-01,\n",
       "        -4.16966617e-01, -1.38775513e-01, -2.39641622e-01,\n",
       "        -2.62635410e-01, -3.84016544e-01, -6.48671746e-01,\n",
       "         4.19849664e-01, -2.39187181e-02,  1.15495935e-01,\n",
       "         6.86211050e-01,  1.63420483e-01,  4.52794880e-01,\n",
       "         1.65546164e-01,  2.92607583e-02, -7.11619556e-01,\n",
       "        -3.49058449e-01,  5.99292479e-02,  2.88770217e-02,\n",
       "        -3.48552801e-02, -5.79445343e-03,  3.07661504e-01,\n",
       "        -3.36941630e-02,  3.23336095e-01, -9.84020650e-01,\n",
       "         2.38435015e-01,  1.05501771e+00, -5.04749656e-01,\n",
       "        -2.28661269e-01, -8.82882118e-01, -8.16607714e-01,\n",
       "         3.72105122e-01,  5.43710411e-01,  1.08276710e-01,\n",
       "         4.08294380e-01, -7.17630625e-01,  4.63772446e-01,\n",
       "         4.34599012e-01, -5.61737955e-01,  9.59766507e-01,\n",
       "         1.61212012e-01, -8.02796423e-01,  6.65751815e-01,\n",
       "        -2.08417773e-01,  2.54860938e-01, -1.43493915e+00,\n",
       "         3.36207151e-01,  5.01740396e-01,  6.08652055e-01,\n",
       "         1.37422666e-01,  2.39632964e-01,  1.70072913e+00,\n",
       "         1.87874377e-01,  3.90459031e-01,  4.51815635e-01,\n",
       "        -9.91825461e-01,  7.40354240e-01,  3.40490907e-01,\n",
       "         4.93596971e-01, -3.66571218e-01,  1.02394082e-01,\n",
       "        -2.66094685e-01, -1.05116554e-01,  6.33294582e-01,\n",
       "         7.27510571e-01,  4.15702701e-01, -1.80222452e-01,\n",
       "         5.41116476e-01, -2.07578719e-01,  6.63016379e-01,\n",
       "         2.15109840e-01,  1.34269789e-01,  1.04874922e-02,\n",
       "        -5.50901592e-02, -8.41096342e-01,  3.42280179e-01,\n",
       "        -5.44668794e-01],\n",
       "       [ 3.66914093e-01,  2.61641532e-01,  1.65239200e-01,\n",
       "        -1.90245897e-01, -2.49180481e-01, -3.18520337e-01,\n",
       "        -1.77657738e-01,  6.51807010e-01, -2.26250753e-01,\n",
       "        -3.82827103e-01,  1.57540590e-01, -2.97601670e-01,\n",
       "         2.87014723e-01,  3.92818809e-01,  1.87878281e-01,\n",
       "        -2.59020835e-01,  3.52900624e-01, -3.27999843e-03,\n",
       "        -1.58810034e-01, -6.27168417e-01,  3.68889630e-01,\n",
       "        -3.47469449e-01,  1.05184186e+00, -6.79478347e-01,\n",
       "        -2.05280259e-01, -1.31643534e-01, -2.05721349e-01,\n",
       "        -7.03436658e-02,  4.24161665e-02, -9.11415070e-02,\n",
       "         1.96626991e-01, -1.61912423e-02,  2.22216025e-01,\n",
       "        -1.08863287e-01, -3.68018031e-01,  1.12891845e-01,\n",
       "         1.97912902e-01, -3.67643535e-01, -6.06358707e-01,\n",
       "        -5.75848281e-01,  2.21556932e-01, -5.17602563e-01,\n",
       "        -1.65101945e-01,  7.75433332e-02,  4.93168652e-01,\n",
       "         1.89866513e-01, -4.66308028e-01, -8.15966487e-01,\n",
       "         1.01905391e-01,  9.13529158e-01,  2.12528095e-01,\n",
       "        -1.93601251e-02, -8.49782288e-01,  6.96778521e-02,\n",
       "        -1.83086738e-01,  1.21496283e-01,  2.89924741e-01,\n",
       "         2.43709639e-01, -3.22622418e-01, -5.95685542e-01,\n",
       "         9.55191553e-02, -6.01505160e-01,  2.48383999e-01,\n",
       "         2.67065793e-01, -1.57500163e-01,  8.66752505e-01,\n",
       "         4.07461151e-02, -3.62228490e-02, -5.38231194e-01,\n",
       "        -1.43947616e-01,  8.80163610e-02,  6.37550414e-01,\n",
       "        -1.82492509e-01,  1.36745006e-01,  1.01194274e+00,\n",
       "        -3.59615475e-01,  5.13279319e-01,  2.22176462e-01,\n",
       "        -5.87652624e-01,  3.55546087e-01,  2.65184753e-02,\n",
       "        -8.84464830e-02, -2.42702171e-01,  2.78912723e-01,\n",
       "        -3.62193048e-01, -4.00551230e-01,  3.95982385e-01,\n",
       "         4.69872773e-01,  1.07593663e-01,  2.75040686e-01,\n",
       "         3.44708622e-01,  8.17482919e-02, -3.97145987e-01,\n",
       "        -7.99727440e-03,  6.52297735e-01,  3.43536735e-01,\n",
       "         3.03673953e-01, -5.35648823e-01,  3.26047957e-01,\n",
       "        -2.24532008e-01],\n",
       "       [ 7.41843104e-01,  4.29751575e-02,  6.01715505e-01,\n",
       "        -5.80869496e-01,  1.26034236e+00, -3.95647347e-01,\n",
       "         1.33480525e+00, -6.00896001e-01, -7.54274070e-01,\n",
       "        -9.62522089e-01, -1.87542737e-01,  1.06248729e-01,\n",
       "         1.60181165e+00,  7.18709528e-01,  1.18183064e+00,\n",
       "        -9.03383076e-01,  1.57621467e+00, -5.95828295e-02,\n",
       "        -5.33478498e-01, -2.79952765e+00,  1.09329534e+00,\n",
       "        -8.20082545e-01,  6.36145115e-01, -8.24953139e-01,\n",
       "         1.11237809e-01, -2.58996546e-01, -1.70161998e+00,\n",
       "        -4.42879140e-01, -9.92680266e-02,  1.96148664e-01,\n",
       "         9.54158902e-01,  9.91463363e-02, -7.65589595e-01,\n",
       "        -1.68507099e-01, -1.43371612e-01,  1.50334764e+00,\n",
       "        -1.31089890e+00,  1.57643151e+00,  2.30278626e-01,\n",
       "        -8.46185744e-01,  1.34618863e-01, -1.31308329e+00,\n",
       "         1.64910674e+00,  5.71022987e-01, -4.65827674e-01,\n",
       "        -1.59377471e-01, -5.48232436e-01, -8.08733642e-01,\n",
       "         9.50430036e-01,  3.24269354e-01,  2.43651748e-01,\n",
       "        -2.27221817e-01,  1.51164412e-01, -3.26518208e-01,\n",
       "         8.54396224e-01,  3.03861916e-01,  3.85831535e-01,\n",
       "         4.82161999e-01, -7.43101358e-01, -4.53774244e-01,\n",
       "        -2.54728854e-01, -5.70616305e-01,  9.25054789e-01,\n",
       "         1.47626936e+00, -8.31058264e-01,  1.93512988e+00,\n",
       "         1.15841472e+00,  7.18678951e-01, -7.33661652e-01,\n",
       "        -1.23601861e-01,  8.13453317e-01, -8.32626879e-01,\n",
       "         8.14202726e-01, -1.51295317e-02,  2.00542259e+00,\n",
       "        -1.56421959e-01,  2.34531373e-01,  1.44971192e+00,\n",
       "        -5.05518615e-01,  1.47215486e+00, -1.03515458e+00,\n",
       "         7.61284649e-01, -6.30025923e-01,  6.56716466e-01,\n",
       "         8.84793282e-01, -1.09340236e-01,  1.51385617e+00,\n",
       "        -4.55864280e-01,  8.48735929e-01, -1.79882541e-01,\n",
       "         1.12340152e+00, -9.36578691e-01,  1.53984892e+00,\n",
       "        -5.86870432e-01,  5.03272355e-01,  6.25439346e-01,\n",
       "        -5.24618208e-01, -4.13665503e-01,  1.79086640e-01,\n",
       "        -2.61483222e-01],\n",
       "       [ 5.88241696e-01,  2.50982493e-01,  1.42706609e+00,\n",
       "         6.34319559e-02, -6.82392046e-02, -1.41366315e+00,\n",
       "         8.90985370e-01,  8.65335464e-01, -6.52925611e-01,\n",
       "        -3.88730586e-01,  2.05681816e-01,  3.04184407e-01,\n",
       "         1.14266169e+00, -2.91041672e-01,  6.48046851e-01,\n",
       "         2.40847208e-02,  9.27587450e-01, -4.99170214e-01,\n",
       "        -7.89703906e-01, -3.03039932e+00, -2.75100350e-01,\n",
       "         4.84866589e-01,  6.61926389e-01, -3.85093480e-01,\n",
       "        -7.34927058e-01, -1.77822486e-01, -5.28499007e-01,\n",
       "        -4.56822544e-01, -5.21423407e-02, -1.15475309e+00,\n",
       "         1.19652760e+00,  7.79914260e-02,  8.78438652e-02,\n",
       "         1.73863328e+00,  1.99564517e-01,  8.02047968e-01,\n",
       "         2.45010898e-01,  1.26195662e-02, -4.15526897e-01,\n",
       "        -7.99354970e-01, -2.95824464e-03, -3.65758315e-02,\n",
       "         6.76005602e-01, -2.52195239e-01,  1.90435529e-01,\n",
       "         9.29608755e-03,  4.98822421e-01, -9.19089615e-01,\n",
       "         1.84923843e-01,  3.10672998e-01, -4.64004159e-01,\n",
       "         2.68502951e-01, -7.16952205e-01, -1.03072274e+00,\n",
       "         5.08269370e-01,  8.83564949e-01,  2.72606462e-01,\n",
       "         6.61963999e-01, -9.83037055e-01,  8.34972620e-01,\n",
       "        -9.09335911e-02, -3.42390060e-01,  7.64754176e-01,\n",
       "        -9.04202685e-02, -1.26957023e+00,  7.90506184e-01,\n",
       "        -5.18296301e-01, -2.72842973e-01, -1.82231057e+00,\n",
       "         5.30564487e-01,  5.50883651e-01,  6.47353902e-02,\n",
       "         5.00942528e-01,  1.03056163e-01,  1.91670871e+00,\n",
       "         9.76573899e-02,  1.64472163e-01,  4.31161821e-02,\n",
       "        -1.33752954e+00,  1.33692968e+00,  3.01646948e-01,\n",
       "         4.49355096e-01, -5.78918695e-01,  7.53408372e-01,\n",
       "        -2.31156558e-01,  4.27965909e-01,  3.39644611e-01,\n",
       "         4.48713839e-01,  6.22316480e-01, -9.96657386e-02,\n",
       "         8.86618793e-01, -7.78485835e-01,  1.22410750e+00,\n",
       "        -1.65697902e-01, -3.39948982e-02, -1.68167621e-01,\n",
       "         5.87070525e-01, -8.92621934e-01, -2.10658744e-01,\n",
       "        -7.55812347e-01]], dtype=float32)"
      ]
     },
     "execution_count": 76,
     "metadata": {},
     "output_type": "execute_result"
    }
   ],
   "source": [
    "embed_sentence(word2vec,example)"
   ]
  },
  {
   "cell_type": "markdown",
   "metadata": {},
   "source": [
    "❓ **Question** ❓ Write a function that, given a list of sentences (each sentence being a list of words/strings), returns a list of embedded sentences (each sentence is a matrix). Apply this function to the train and test sentences\n",
    "\n",
    "💡 _Hint_: Use the previous function `embed_sentence`"
   ]
  },
  {
   "cell_type": "code",
   "execution_count": null,
   "metadata": {},
   "outputs": [],
   "source": [
    "def embedding(word2vec, sentences):\n",
    "    embedded_sentences = []\n",
    "    for sentence in sentences:\n",
    "        embedded_sentence = embed_sentence(word2vec,sentence)\n",
    "        embedded_sentences.append(embedded_sentence)\n",
    "    return embedded_sentences\n",
    "    \n",
    "X_train = embedding(word2vec, X_train)\n",
    "X_test = embedding(word2vec, X_test)"
   ]
  },
  {
   "cell_type": "code",
   "execution_count": 79,
   "metadata": {},
   "outputs": [],
   "source": []
  },
  {
   "cell_type": "markdown",
   "metadata": {},
   "source": [
    "❓ **Question** ❓ In order to have ready-to-use data, do not forget to pad your sequences so you have tensors which can be divided into batches (of `batch_size`) during the optimization. Store the padded values in `X_train_pad` and `X_test_pad`. Do not forget the important arguments of the padding ;)"
   ]
  },
  {
   "cell_type": "code",
   "execution_count": null,
   "metadata": {},
   "outputs": [],
   "source": [
    "from tensorflow.keras.preprocessing.sequence import pad_sequences\n",
    "X_train_pad = pad_sequences(X_train, dtype='float32', padding='post', value=0)\n",
    "X_test_pad = pad_sequences(X_test, dtype='float32', padding='post', value=0)\n",
    "assert(len(X_train_pad.shape) == 3)\n",
    "assert(len(X_test_pad.shape) == 3)\n",
    "assert(X_train_pad.shape[2] == 100)\n",
    "assert(X_test_pad.shape[2] == 100)"
   ]
  },
  {
   "cell_type": "code",
   "execution_count": 83,
   "metadata": {},
   "outputs": [],
   "source": [
    "!git add .\n",
    "!git commit -m\"understand embeddin"
   ]
  },
  {
   "cell_type": "markdown",
   "metadata": {},
   "source": [
    "\n",
    "\n",
    "🏁 Congratulations, you are now able to use `Word2Vec` to embed your words :)\n",
    "\n",
    "💾 Don't forget to git add/commit/push your notebook...\n",
    "\n",
    "🚀 ... and move on to the next challenge!\n"
   ]
  }
 ],
 "metadata": {
  "kernelspec": {
   "display_name": "Python 3 (ipykernel)",
   "language": "python",
   "name": "python3"
  },
  "language_info": {
   "codemirror_mode": {
    "name": "ipython",
    "version": 3
   },
   "file_extension": ".py",
   "mimetype": "text/x-python",
   "name": "python",
   "nbconvert_exporter": "python",
   "pygments_lexer": "ipython3",
   "version": "3.10.6"
  },
  "toc": {
   "base_numbering": 1,
   "nav_menu": {},
   "number_sections": true,
   "sideBar": true,
   "skip_h1_title": false,
   "title_cell": "Table of Contents",
   "title_sidebar": "Contents",
   "toc_cell": false,
   "toc_position": {},
   "toc_section_display": true,
   "toc_window_display": false
  },
  "varInspector": {
   "cols": {
    "lenName": 16,
    "lenType": 16,
    "lenVar": 40
   },
   "kernels_config": {
    "python": {
     "delete_cmd_postfix": "",
     "delete_cmd_prefix": "del ",
     "library": "var_list.py",
     "varRefreshCmd": "print(var_dic_list())"
    },
    "r": {
     "delete_cmd_postfix": ") ",
     "delete_cmd_prefix": "rm(",
     "library": "var_list.r",
     "varRefreshCmd": "cat(var_dic_list()) "
    }
   },
   "types_to_exclude": [
    "module",
    "function",
    "builtin_function_or_method",
    "instance",
    "_Feature"
   ],
   "window_display": false
  }
 },
 "nbformat": 4,
 "nbformat_minor": 4
}
